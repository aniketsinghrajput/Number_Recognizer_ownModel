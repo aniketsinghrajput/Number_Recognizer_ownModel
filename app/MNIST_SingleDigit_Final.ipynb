{
 "cells": [
  {
   "cell_type": "code",
   "execution_count": 12,
   "metadata": {
    "id": "sBHOM0rISjvZ"
   },
   "outputs": [],
   "source": [
    "import numpy as np\n",
    "import cv2\n",
    "import skimage.io as io\n",
    "import pandas as pd\n",
    "import tensorflow as tf\n",
    "import matplotlib.pyplot as plt\n",
    "%matplotlib inline\n",
    "from keras.datasets import mnist\n",
    "from keras.models import Sequential\n",
    "from keras.layers import Dense, Dropout, Activation, Flatten\n",
    "from keras.optimizers import Adam\n",
    "from keras.layers.normalization import BatchNormalization\n",
    "from keras.utils import np_utils\n",
    "from keras.layers import Conv2D, MaxPooling2D, ZeroPadding2D, GlobalAveragePooling2D\n",
    "from keras.layers.advanced_activations import LeakyReLU \n",
    "from keras.preprocessing.image import ImageDataGenerator\n",
    "\n",
    "np.random.seed(25)\n",
    "#Utility\n",
    "import urllib\n",
    "import os\n",
    "import shutil\n",
    "import time\n",
    "from PIL import Image\n",
    "\n",
    "#Vizualization\n",
    "import matplotlib.image  as mpimg\n",
    "import matplotlib.pyplot as plt\n",
    "import cv2\n",
    "\n",
    "#MODEL\n",
    "import tensorflow as tf\n",
    "from keras.layers import Flatten, Dense, Conv2D, MaxPooling2D, Input, Dropout, AveragePooling2D, Concatenate,Lambda\n",
    "from tensorflow.keras.models import Model, Sequential\n",
    "from keras.applications.vgg16 import VGG16\n",
    "from tensorflow.keras.applications import MobileNetV2\n",
    "from tensorflow.keras.optimizers import Adam\n",
    "from keras.applications.vgg16 import preprocess_input\n"
   ]
  },
  {
   "cell_type": "code",
   "execution_count": 13,
   "metadata": {
    "id": "Q_OSvQqaS-jt"
   },
   "outputs": [],
   "source": [
    "(X_train, y_train), (X_test, y_test) = mnist.load_data()"
   ]
  },
  {
   "cell_type": "code",
   "execution_count": 14,
   "metadata": {
    "id": "0uoQk32cvIxx"
   },
   "outputs": [],
   "source": [
    "X_train = X_train.reshape(X_train.shape[0], 28, 28, 1)\n",
    "X_test = X_test.reshape(X_test.shape[0], 28, 28, 1)\n",
    "\n",
    "X_train = X_train.astype('float32')\n",
    "X_test = X_test.astype('float32')"
   ]
  },
  {
   "cell_type": "code",
   "execution_count": 15,
   "metadata": {
    "colab": {
     "base_uri": "https://localhost:8080/"
    },
    "id": "hxtIqp1wu9hZ",
    "outputId": "26bbfe2a-b0c3-4eed-f735-b4555fb8cfe5"
   },
   "outputs": [
    {
     "data": {
      "text/plain": [
       "(5, array([0., 0., 0., 0., 0., 1., 0., 0., 0., 0.], dtype=float32))"
      ]
     },
     "execution_count": 15,
     "metadata": {},
     "output_type": "execute_result"
    }
   ],
   "source": [
    "number_of_classes = 10\n",
    "\n",
    "Y_train = np_utils.to_categorical(y_train, number_of_classes)\n",
    "Y_test = np_utils.to_categorical(y_test, number_of_classes)\n",
    "\n",
    "y_train[0], Y_train[0]"
   ]
  },
  {
   "cell_type": "code",
   "execution_count": 16,
   "metadata": {
    "id": "4N0JcSQkTGQ9"
   },
   "outputs": [],
   "source": [
    "X_train=tf.keras.utils.normalize(X_train,axis=1)\n",
    "X_test=tf.keras.utils.normalize(X_test,axis=1)"
   ]
  },
  {
   "cell_type": "code",
   "execution_count": 17,
   "metadata": {
    "colab": {
     "base_uri": "https://localhost:8080/"
    },
    "id": "Th3dEyX8p8Jg",
    "outputId": "c5603d3c-cf10-41ab-fadf-ca0247c3b262"
   },
   "outputs": [
    {
     "data": {
      "text/plain": [
       "((60000, 28, 28, 1), (10000, 28, 28, 1))"
      ]
     },
     "execution_count": 17,
     "metadata": {},
     "output_type": "execute_result"
    }
   ],
   "source": [
    "X_train.shape, X_test.shape"
   ]
  },
  {
   "cell_type": "code",
   "execution_count": 18,
   "metadata": {
    "colab": {
     "base_uri": "https://localhost:8080/"
    },
    "id": "B7T5r_1qSlEe",
    "outputId": "95aa19cd-dabc-48c0-d1c1-90c6adc812f1"
   },
   "outputs": [
    {
     "name": "stdout",
     "output_type": "stream",
     "text": [
      "Train step size: 938\n",
      "Test step size: 157\n"
     ]
    }
   ],
   "source": [
    "gen = ImageDataGenerator(rotation_range=8, width_shift_range=0.08, shear_range=0.3,\n",
    "                         height_shift_range=0.08, zoom_range=0.08)\n",
    "test_gen = ImageDataGenerator()\n",
    "train_generator = gen.flow(X_train, Y_train, batch_size=64)\n",
    "test_generator = test_gen.flow(X_test, Y_test, batch_size=64)\n",
    "STEP_SIZE_TRAIN = int(np.ceil(train_generator.n / train_generator.batch_size))\n",
    "STEP_SIZE_Test = int(np.ceil(test_generator.n / test_generator.batch_size))\n",
    "\n",
    "print(\"Train step size:\", STEP_SIZE_TRAIN)\n",
    "print(\"Test step size:\", STEP_SIZE_Test)\n",
    "\n",
    "train_generator.reset()\n",
    "test_generator.reset()"
   ]
  },
  {
   "cell_type": "code",
   "execution_count": 22,
   "metadata": {
    "id": "8mZR7apRPvBI"
   },
   "outputs": [],
   "source": [
    "model=tf.keras.models.Sequential()\n",
    "model.add(tf.keras.layers.Conv2D(64, (3, 3), activation=tf.nn.relu))\n",
    "model.add(tf.keras.layers.BatchNormalization(axis=-1))\n",
    "model.add(tf.keras.layers.Conv2D(64,(3, 3),activation=tf.nn.relu))\n",
    "model.add(tf.keras.layers.MaxPooling2D(pool_size=(2,2)))\n",
    "model.add(tf.keras.layers.Conv2D(32,(3, 3),activation=tf.nn.relu))\n",
    "model.add(tf.keras.layers.BatchNormalization(axis=-1))\n",
    "model.add(tf.keras.layers.Conv2D(64,(3, 3),activation=tf.nn.relu))\n",
    "model.add(tf.keras.layers.Conv2D(64,(3, 3),activation=tf.nn.relu))\n",
    "model.add(tf.keras.layers.MaxPooling2D(pool_size=(2,2)))\n",
    "model.add(tf.keras.layers.Flatten())\n",
    "model.add(tf.keras.layers.BatchNormalization(axis=-1))\n",
    "model.add(tf.keras.layers.Dense(512,activation=tf.nn.relu))\n",
    "model.add(tf.keras.layers.BatchNormalization(axis=-1))\n",
    "model.add(tf.keras.layers.Dropout(0.2))\n",
    "model.add(tf.keras.layers.Dense(10,activation=tf.nn.softmax))\n",
    "#cnnmodel.summary()"
   ]
  },
  {
   "cell_type": "code",
   "execution_count": 23,
   "metadata": {
    "id": "3Yz4OrQ_ETg8"
   },
   "outputs": [],
   "source": [
    "model.compile(loss='categorical_crossentropy', optimizer=Adam(),metrics=['accuracy'])"
   ]
  },
  {
   "cell_type": "code",
   "execution_count": 24,
   "metadata": {
    "colab": {
     "base_uri": "https://localhost:8080/"
    },
    "id": "tr5FLr17TSY7",
    "outputId": "b48c69b9-4950-4457-a540-4e227d50b095"
   },
   "outputs": [
    {
     "name": "stdout",
     "output_type": "stream",
     "text": [
      "Epoch 1/5\n",
      "938/938 [==============================] - 134s 142ms/step - loss: 0.3392 - accuracy: 0.9002 - val_loss: 0.0539 - val_accuracy: 0.9840\n",
      "Epoch 2/5\n",
      "938/938 [==============================] - 173s 184ms/step - loss: 0.0795 - accuracy: 0.9757 - val_loss: 0.0527 - val_accuracy: 0.9836\n",
      "Epoch 3/5\n",
      "938/938 [==============================] - 186s 198ms/step - loss: 0.0569 - accuracy: 0.9831 - val_loss: 0.0392 - val_accuracy: 0.9880\n",
      "Epoch 4/5\n",
      "938/938 [==============================] - 182s 194ms/step - loss: 0.0525 - accuracy: 0.9839 - val_loss: 0.0746 - val_accuracy: 0.9738\n",
      "Epoch 5/5\n",
      "938/938 [==============================] - 180s 192ms/step - loss: 0.0417 - accuracy: 0.9869 - val_loss: 0.0613 - val_accuracy: 0.9817\n"
     ]
    },
    {
     "data": {
      "text/plain": [
       "<tensorflow.python.keras.callbacks.History at 0x1b9fa771460>"
      ]
     },
     "execution_count": 24,
     "metadata": {},
     "output_type": "execute_result"
    }
   ],
   "source": [
    "model.fit_generator(train_generator,steps_per_epoch=STEP_SIZE_TRAIN,\n",
    "                                         validation_data=test_generator,validation_steps=STEP_SIZE_Test,epochs=5)"
   ]
  },
  {
   "cell_type": "code",
   "execution_count": 25,
   "metadata": {},
   "outputs": [],
   "source": [
    "# Save model\n",
    "model.save('mnist_classification.h5')"
   ]
  },
  {
   "cell_type": "code",
   "execution_count": 14,
   "metadata": {},
   "outputs": [],
   "source": []
  },
  {
   "cell_type": "code",
   "execution_count": 15,
   "metadata": {},
   "outputs": [],
   "source": [
    "model.save_weights(\"Model_mnist.h5\")"
   ]
  },
  {
   "cell_type": "code",
   "execution_count": null,
   "metadata": {
    "id": "KtO1LhFgFAxi"
   },
   "outputs": [],
   "source": [
    "predictions = model.predict_classes(X_test)"
   ]
  }
 ],
 "metadata": {
  "colab": {
   "name": "MNIST_Swagota_Final.ipynb",
   "provenance": []
  },
  "kernelspec": {
   "display_name": "Python 3",
   "language": "python",
   "name": "python3"
  },
  "language_info": {
   "codemirror_mode": {
    "name": "ipython",
    "version": 3
   },
   "file_extension": ".py",
   "mimetype": "text/x-python",
   "name": "python",
   "nbconvert_exporter": "python",
   "pygments_lexer": "ipython3",
   "version": "3.8.5"
  }
 },
 "nbformat": 4,
 "nbformat_minor": 1
}
