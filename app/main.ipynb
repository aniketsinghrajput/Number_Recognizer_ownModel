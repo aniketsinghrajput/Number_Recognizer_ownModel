{
 "cells": [
  {
   "cell_type": "code",
   "execution_count": 1,
   "metadata": {},
   "outputs": [],
   "source": [
    "from flask import Flask, render_template, request, jsonify\n",
    "import numpy as np\n",
    "from tensorflow import keras\n",
    "import cv2\n",
    "import base64\n",
    "\n",
    "# Initialize flask app\n",
    "app = Flask(__name__)\n",
    "\n",
    "# Load prebuilt model\n",
    "model = keras.models.load_model('app/mnist_classification.h5')\n",
    "\n",
    "# Handle GET request\n",
    "@app.route('/', methods=['GET'])\n",
    "def drawing():\n",
    "    return render_template('drawing.html')\n",
    "\n",
    "# Handle POST request\n",
    "@app.route('/', methods=['POST'])\n",
    "def canvas():\n",
    "    # Recieve base64 data from the user form\n",
    "    canvasdata = request.form['canvasimg']\n",
    "    encoded_data = request.form['canvasimg'].split(',')[1]\n",
    "\n",
    "    # Decode base64 image to python array\n",
    "    nparr = np.fromstring(base64.b64decode(encoded_data), np.uint8)\n",
    "    img = cv2.imdecode(nparr, cv2.IMREAD_COLOR)\n",
    "\n",
    "    # Convert 3 channel image (RGB) to 1 channel image (GRAY)\n",
    "    gray_image = cv2.cvtColor(img, cv2.COLOR_BGR2GRAY)\n",
    "\n",
    "    # Resize to (28, 28)\n",
    "    gray_image = cv2.resize(gray_image, (28, 28), interpolation=cv2.INTER_LINEAR)\n",
    "\n",
    "    # Expand to numpy array dimenstion to (1, 28, 28)\n",
    "    img = np.expand_dims(gray_image, axis=0)\n",
    "\n",
    "    try:\n",
    "        prediction = np.argmax(model.predict(img))\n",
    "        print(f\"Prediction Result : {str(prediction)}\")\n",
    "        return render_template('drawing.html', response=str(prediction), canvasdata=canvasdata, success=True)\n",
    "    except Exception as e:\n",
    "        return render_template('drawing.html', response=str(e), canvasdata=canvasdata)"
   ]
  },
  {
   "cell_type": "code",
   "execution_count": null,
   "metadata": {},
   "outputs": [],
   "source": []
  }
 ],
 "metadata": {
  "kernelspec": {
   "display_name": "Python 3",
   "language": "python",
   "name": "python3"
  },
  "language_info": {
   "codemirror_mode": {
    "name": "ipython",
    "version": 3
   },
   "file_extension": ".py",
   "mimetype": "text/x-python",
   "name": "python",
   "nbconvert_exporter": "python",
   "pygments_lexer": "ipython3",
   "version": "3.8.5"
  }
 },
 "nbformat": 4,
 "nbformat_minor": 4
}
